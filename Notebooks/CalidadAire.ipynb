{
 "cells": [
  {
   "cell_type": "markdown",
   "id": "1bad4543",
   "metadata": {},
   "source": [
    "[![UAEM](https://www.uaem.mx/fcaei/images/uaem.png)](https://www.uaem.mx/fcaei/moca.html)\n",
    "[![Pandas](https://img.shields.io/badge/Pandas-2.0+-blue.svg)](https://pandas.pydata.org/)\n",
    "[![Scikit-learn](https://img.shields.io/badge/Scikit--learn-1.2+-1560BD.svg)](https://scikit-learn.org/stable/)\n",
    "[![Statsmodels](https://img.shields.io/badge/Statsmodels-0.14+-8A2BE2.svg)](https://www.statsmodels.org/stable/index.html)\n",
    "[![Python 3.9+](https://img.shields.io/badge/Python-3.9+-green.svg)](https://www.python.org/downloads/release/python-390/)\n",
    "\n",
    "# Proyecto: Análisis Predictivo y de Series de Tiempo de Contaminantes Atmosféricos\n",
    "\n",
    "**Autor:** [Emiliano Rodriguez Villegas](https://github.com/EmilianoRdzV)\n",
    "**Fecha:** 14 de Junio de 2025\n",
    "**Versión:** 1.0\n",
    "\n",
    "---\n",
    "\n",
    "## Introducción y Objetivos\n",
    "\n",
    "Este notebook realiza un análisis multifacético sobre un conjunto de datos de seis contaminantes criterio, correspondientes al mes de enero de 2019. El proyecto se centra en dos áreas principales de la ciencia de datos:\n",
    "\n",
    "1.  **Modelado Predictivo:** Se construirán y evaluarán modelos de regresión para estimar la concentración de ciertos contaminantes (como PM2.5 y O3) utilizando otros gases como variables de entrada.\n",
    "2.  **Análisis de Series de Tiempo:** Se analizará el comportamiento temporal de un contaminante específico para descomponer su serie, identificar su tendencia y observar los patrones subyacentes una vez eliminado el componente estacional.\n",
    "\n",
    "---\n",
    "\n",
    "### Índice del Notebook\n",
    "\n",
    "1.  [**Fase 1: Preparación y Análisis Exploratorio**](#fase-1)\n",
    "    * [1.1. Carga de Librerías y Datos](#1-1)\n",
    "    * [1.2. Limpieza y Verificación de Datos](#1-2)\n",
    "    * [1.3. Análisis Exploratorio y Matriz de Correlación](#1-3)\n",
    "2.  [**Fase 2: Modelado Predictivo (Regresión)**](#fase-2)\n",
    "    * [2.1. Modelo 1: Predicción de Partículas PM10 / PM2.5](#2-1)\n",
    "    * [2.2. Modelo 2: Predicción de Ozono (O3)](#2-2)\n",
    "    * [2.3. Evaluación de Modelos (Métricas y Análisis de valor-t)](#2-3)\n",
    "3.  [**Fase 3: Análisis de Series de Tiempo**](#fase-3)\n",
    "    * [3.1. Selección y Visualización de la Serie Temporal](#3-1)\n",
    "    * [3.2. Descomposición de la Serie](#3-2)\n",
    "    * [3.3. Observaciones de la Serie Desestacionalizada](#3-3)\n",
    "4.  [**Fase 4: Conclusiones Finales**](#fase-4)\n",
    "    * [4.1. Resumen de Hallazgos](#4-1)\n",
    "    * [4.2. Pasos Futuros](#4-2)"
   ]
  },
  {
   "cell_type": "markdown",
   "id": "70271d88",
   "metadata": {},
   "source": [
    "## <a id=\"fase-1\"></a>1. Fase 1: Preparación y Análisis Exploratorio\n",
    "\n",
    "En esta fase inicial, cargaremos todas las herramientas necesarias y nuestro conjunto de datos. Realizaremos una limpieza básica y una exploración para entender la estructura y las características principales de los datos antes de pasar al modelado.\n",
    "\n",
    "### <a id=\"1-1\"></a>1.1. Carga de Librerías y Datos\n",
    "\n",
    "Comenzamos importando todas las librerías de Python que utilizaremos a lo largo del proyecto. Posteriormente, cargaremos el conjunto de datos desde el archivo local a un DataFrame de `pandas` que llamaremos `contaminantes`."
   ]
  },
  {
   "cell_type": "code",
   "execution_count": null,
   "id": "91713d3c",
   "metadata": {},
   "outputs": [
    {
     "data": {
      "application/vnd.microsoft.datawrangler.viewer.v0+json": {
       "columns": [
        {
         "name": "index",
         "rawType": "int64",
         "type": "integer"
        },
        {
         "name": "DATE",
         "rawType": "datetime64[ns]",
         "type": "datetime"
        },
        {
         "name": "CO",
         "rawType": "float64",
         "type": "float"
        },
        {
         "name": "NO2",
         "rawType": "float64",
         "type": "float"
        },
        {
         "name": "O3",
         "rawType": "float64",
         "type": "float"
        },
        {
         "name": "SO2",
         "rawType": "float64",
         "type": "float"
        },
        {
         "name": "PM2.5",
         "rawType": "int64",
         "type": "integer"
        },
        {
         "name": "PM10",
         "rawType": "float64",
         "type": "float"
        }
       ],
       "ref": "98381c19-a4ee-48cc-ab83-e2b3746c6b91",
       "rows": [
        [
         "0",
         "2019-01-01 00:00:00",
         "0.88",
         "0.011",
         "0.021",
         "0.003",
         "38",
         "59.0"
        ],
        [
         "1",
         "2019-01-01 00:00:00",
         "0.82",
         "0.012",
         "0.018",
         "0.002",
         "46",
         "62.0"
        ],
        [
         "2",
         "2019-01-01 00:00:00",
         "0.75",
         "0.009",
         "0.018",
         "0.002",
         "31",
         "45.0"
        ],
        [
         "3",
         "2019-01-01 00:00:00",
         "0.67",
         "0.006",
         "0.02",
         "0.002",
         "18",
         "29.0"
        ],
        [
         "4",
         "2019-01-01 00:00:00",
         "0.61",
         "0.004",
         "0.021",
         "0.002",
         "13",
         "23.0"
        ]
       ],
       "shape": {
        "columns": 7,
        "rows": 5
       }
      },
      "text/html": [
       "<div>\n",
       "<style scoped>\n",
       "    .dataframe tbody tr th:only-of-type {\n",
       "        vertical-align: middle;\n",
       "    }\n",
       "\n",
       "    .dataframe tbody tr th {\n",
       "        vertical-align: top;\n",
       "    }\n",
       "\n",
       "    .dataframe thead th {\n",
       "        text-align: right;\n",
       "    }\n",
       "</style>\n",
       "<table border=\"1\" class=\"dataframe\">\n",
       "  <thead>\n",
       "    <tr style=\"text-align: right;\">\n",
       "      <th></th>\n",
       "      <th>DATE</th>\n",
       "      <th>CO</th>\n",
       "      <th>NO2</th>\n",
       "      <th>O3</th>\n",
       "      <th>SO2</th>\n",
       "      <th>PM2.5</th>\n",
       "      <th>PM10</th>\n",
       "    </tr>\n",
       "  </thead>\n",
       "  <tbody>\n",
       "    <tr>\n",
       "      <th>0</th>\n",
       "      <td>2019-01-01</td>\n",
       "      <td>0.88</td>\n",
       "      <td>0.011</td>\n",
       "      <td>0.021</td>\n",
       "      <td>0.003</td>\n",
       "      <td>38</td>\n",
       "      <td>59.0</td>\n",
       "    </tr>\n",
       "    <tr>\n",
       "      <th>1</th>\n",
       "      <td>2019-01-01</td>\n",
       "      <td>0.82</td>\n",
       "      <td>0.012</td>\n",
       "      <td>0.018</td>\n",
       "      <td>0.002</td>\n",
       "      <td>46</td>\n",
       "      <td>62.0</td>\n",
       "    </tr>\n",
       "    <tr>\n",
       "      <th>2</th>\n",
       "      <td>2019-01-01</td>\n",
       "      <td>0.75</td>\n",
       "      <td>0.009</td>\n",
       "      <td>0.018</td>\n",
       "      <td>0.002</td>\n",
       "      <td>31</td>\n",
       "      <td>45.0</td>\n",
       "    </tr>\n",
       "    <tr>\n",
       "      <th>3</th>\n",
       "      <td>2019-01-01</td>\n",
       "      <td>0.67</td>\n",
       "      <td>0.006</td>\n",
       "      <td>0.020</td>\n",
       "      <td>0.002</td>\n",
       "      <td>18</td>\n",
       "      <td>29.0</td>\n",
       "    </tr>\n",
       "    <tr>\n",
       "      <th>4</th>\n",
       "      <td>2019-01-01</td>\n",
       "      <td>0.61</td>\n",
       "      <td>0.004</td>\n",
       "      <td>0.021</td>\n",
       "      <td>0.002</td>\n",
       "      <td>13</td>\n",
       "      <td>23.0</td>\n",
       "    </tr>\n",
       "  </tbody>\n",
       "</table>\n",
       "</div>"
      ],
      "text/plain": [
       "        DATE    CO    NO2     O3    SO2  PM2.5  PM10\n",
       "0 2019-01-01  0.88  0.011  0.021  0.003     38  59.0\n",
       "1 2019-01-01  0.82  0.012  0.018  0.002     46  62.0\n",
       "2 2019-01-01  0.75  0.009  0.018  0.002     31  45.0\n",
       "3 2019-01-01  0.67  0.006  0.020  0.002     18  29.0\n",
       "4 2019-01-01  0.61  0.004  0.021  0.002     13  23.0"
      ]
     },
     "metadata": {},
     "output_type": "display_data"
    }
   ],
   "source": [
    "import pandas as pd\n",
    "import numpy as np\n",
    "import matplotlib.pyplot as plt\n",
    "import seaborn as sns\n",
    "\n",
    "# Modelado \n",
    "from sklearn.model_selection import train_test_split\n",
    "from sklearn.linear_model import LinearRegression\n",
    "from sklearn.metrics import mean_squared_error, r2_score\n",
    "import statsmodels.api as sm\n",
    "from statsmodels.tsa.seasonal import seasonal_decompose\n",
    "\n",
    "\n",
    "rutaArchivo = '../Data/contaminantes.xlsx' \n",
    "contaminantes = pd.read_excel(rutaArchivo)\n",
    "\n",
    "display(contaminantes.head())"
   ]
  },
  {
   "cell_type": "markdown",
   "id": "bfd20192",
   "metadata": {},
   "source": [
    "### <a id=\"1-2\"></a>1.2. Limpieza y Verificación de Datos\n",
    "\n",
    "Una vez cargados los datos, el siguiente paso crítico es la limpieza. Verificaremos la existencia de valores nulos (NaN) y filas duplicadas que puedan afectar la calidad de nuestro análisis y modelos.\n",
    "\n",
    "**Estrategia de Limpieza:**\n",
    "* **Valores Nulos:** Para los valores numéricos faltantes, utilizaremos el método de **interpolación lineal**. Esta técnica es ideal para datos de series temporales (como mediciones de sensores), ya que estima los valores faltantes basándose en los puntos anterior y posterior, asumiendo una progresión lógica.\n",
    "* **Duplicados:** Se eliminará cualquier fila que sea una copia exacta de otra para evitar redundancia en los datos."
   ]
  },
  {
   "cell_type": "code",
   "execution_count": 16,
   "id": "8abf4e1f",
   "metadata": {},
   "outputs": [
    {
     "name": "stdout",
     "output_type": "stream",
     "text": [
      "\n",
      "--- Resumen final de los tipos de datos ---\n",
      "<class 'pandas.core.frame.DataFrame'>\n",
      "RangeIndex: 742 entries, 0 to 741\n",
      "Data columns (total 7 columns):\n",
      " #   Column  Non-Null Count  Dtype         \n",
      "---  ------  --------------  -----         \n",
      " 0   DATE    742 non-null    datetime64[ns]\n",
      " 1   CO      742 non-null    float64       \n",
      " 2   NO2     742 non-null    float64       \n",
      " 3   O3      742 non-null    float64       \n",
      " 4   SO2     742 non-null    float64       \n",
      " 5   PM2.5   742 non-null    int64         \n",
      " 6   PM10    742 non-null    float64       \n",
      "dtypes: datetime64[ns](1), float64(5), int64(1)\n",
      "memory usage: 40.7 KB\n"
     ]
    }
   ],
   "source": [
    "# Buscamos valores nulos/duplicados que puedan interferir en el analisiss \n",
    "totalNulos = contaminantes.isnull().sum().sum()\n",
    "totalDuplicados = contaminantes.duplicated().sum()\n",
    "\n",
    "print(\"\\n--- Resumen final de los tipos de datos ---\")\n",
    "contaminantes.info()"
   ]
  },
  {
   "cell_type": "code",
   "execution_count": null,
   "id": "235814f0",
   "metadata": {},
   "outputs": [],
   "source": []
  },
  {
   "cell_type": "code",
   "execution_count": null,
   "id": "c7ef5db9",
   "metadata": {},
   "outputs": [],
   "source": []
  }
 ],
 "metadata": {
  "kernelspec": {
   "display_name": "base",
   "language": "python",
   "name": "python3"
  },
  "language_info": {
   "codemirror_mode": {
    "name": "ipython",
    "version": 3
   },
   "file_extension": ".py",
   "mimetype": "text/x-python",
   "name": "python",
   "nbconvert_exporter": "python",
   "pygments_lexer": "ipython3",
   "version": "3.12.7"
  }
 },
 "nbformat": 4,
 "nbformat_minor": 5
}
