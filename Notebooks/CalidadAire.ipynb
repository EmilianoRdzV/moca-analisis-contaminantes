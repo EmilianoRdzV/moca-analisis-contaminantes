{
 "cells": [
  {
   "cell_type": "markdown",
   "id": "1bad4543",
   "metadata": {},
   "source": [
    "[![UAEM](https://www.uaem.mx/fcaei/images/uaem.png)](https://www.uaem.mx/fcaei/moca.html)\n",
    "[![Pandas](https://img.shields.io/badge/Pandas-2.0+-blue.svg)](https://pandas.pydata.org/)\n",
    "[![Scikit-learn](https://img.shields.io/badge/Scikit--learn-1.2+-1560BD.svg)](https://scikit-learn.org/stable/)\n",
    "[![Statsmodels](https://img.shields.io/badge/Statsmodels-0.14+-8A2BE2.svg)](https://www.statsmodels.org/stable/index.html)\n",
    "[![Python 3.9+](https://img.shields.io/badge/Python-3.9+-green.svg)](https://www.python.org/downloads/release/python-390/)\n",
    "\n",
    "# Proyecto: Análisis Predictivo y de Series de Tiempo de Contaminantes Atmosféricos\n",
    "\n",
    "**Autor:** [Emiliano Rodriguez Villegas](https://github.com/EmilianoRdzV)\n",
    "**Fecha:** 14 de Junio de 2025\n",
    "**Versión:** 1.0\n",
    "\n",
    "---\n",
    "\n",
    "## Introducción y Objetivos\n",
    "\n",
    "Este notebook realiza un análisis multifacético sobre un conjunto de datos de seis contaminantes criterio, correspondientes al mes de enero de 2019. El proyecto se centra en dos áreas principales de la ciencia de datos:\n",
    "\n",
    "1.  **Modelado Predictivo:** Se construirán y evaluarán modelos de regresión para estimar la concentración de ciertos contaminantes (como PM2.5 y O3) utilizando otros gases como variables de entrada.\n",
    "2.  **Análisis de Series de Tiempo:** Se analizará el comportamiento temporal de un contaminante específico para descomponer su serie, identificar su tendencia y observar los patrones subyacentes una vez eliminado el componente estacional.\n",
    "\n",
    "---\n",
    "\n",
    "### Índice del Notebook\n",
    "\n",
    "1.  [**Fase 1: Preparación y Análisis Exploratorio**](#fase-1)\n",
    "    * [1.1. Carga de Librerías y Datos](#1-1)\n",
    "    * [1.2. Limpieza y Verificación de Datos](#1-2)\n",
    "    * [1.3. Análisis Exploratorio y Matriz de Correlación](#1-3)\n",
    "2.  [**Fase 2: Modelado Predictivo (Regresión)**](#fase-2)\n",
    "    * [2.1. Modelo 1: Predicción de Partículas PM10 / PM2.5](#2-1)\n",
    "    * [2.2. Modelo 2: Predicción de Ozono (O3)](#2-2)\n",
    "    * [2.3. Evaluación de Modelos (Métricas y Análisis de valor-t)](#2-3)\n",
    "3.  [**Fase 3: Análisis de Series de Tiempo**](#fase-3)\n",
    "    * [3.1. Selección y Visualización de la Serie Temporal](#3-1)\n",
    "    * [3.2. Descomposición de la Serie](#3-2)\n",
    "    * [3.3. Observaciones de la Serie Desestacionalizada](#3-3)\n",
    "4.  [**Fase 4: Conclusiones Finales**](#fase-4)\n",
    "    * [4.1. Resumen de Hallazgos](#4-1)\n",
    "    * [4.2. Pasos Futuros](#4-2)"
   ]
  },
  {
   "cell_type": "markdown",
   "id": "70271d88",
   "metadata": {},
   "source": [
    "## <a id=\"fase-1\"></a>1. Fase 1: Preparación y Análisis Exploratorio\n",
    "\n",
    "En esta fase inicial, cargaremos todas las herramientas necesarias y nuestro conjunto de datos. Realizaremos una limpieza básica y una exploración para entender la estructura y las características principales de los datos antes de pasar al modelado.\n",
    "\n",
    "### <a id=\"1-1\"></a>1.1. Carga de Librerías y Datos\n",
    "\n",
    "Comenzamos importando todas las librerías de Python que utilizaremos a lo largo del proyecto. Posteriormente, cargaremos el conjunto de datos desde el archivo local a un DataFrame de `pandas` que llamaremos `contaminantes`."
   ]
  },
  {
   "cell_type": "code",
   "execution_count": 26,
   "id": "91713d3c",
   "metadata": {},
   "outputs": [
    {
     "data": {
      "application/vnd.microsoft.datawrangler.viewer.v0+json": {
       "columns": [
        {
         "name": "index",
         "rawType": "int64",
         "type": "integer"
        },
        {
         "name": "DATE",
         "rawType": "datetime64[ns]",
         "type": "datetime"
        },
        {
         "name": "CO",
         "rawType": "float64",
         "type": "float"
        },
        {
         "name": "NO2",
         "rawType": "float64",
         "type": "float"
        },
        {
         "name": "O3",
         "rawType": "float64",
         "type": "float"
        },
        {
         "name": "SO2",
         "rawType": "float64",
         "type": "float"
        },
        {
         "name": "PM2.5",
         "rawType": "int64",
         "type": "integer"
        },
        {
         "name": "PM10",
         "rawType": "float64",
         "type": "float"
        }
       ],
       "ref": "959149e6-27a8-4c32-a4b1-57af5ce05a56",
       "rows": [
        [
         "0",
         "2019-01-01 00:00:00",
         "0.88",
         "0.011",
         "0.021",
         "0.003",
         "38",
         "59.0"
        ],
        [
         "1",
         "2019-01-01 00:00:00",
         "0.82",
         "0.012",
         "0.018",
         "0.002",
         "46",
         "62.0"
        ],
        [
         "2",
         "2019-01-01 00:00:00",
         "0.75",
         "0.009",
         "0.018",
         "0.002",
         "31",
         "45.0"
        ],
        [
         "3",
         "2019-01-01 00:00:00",
         "0.67",
         "0.006",
         "0.02",
         "0.002",
         "18",
         "29.0"
        ],
        [
         "4",
         "2019-01-01 00:00:00",
         "0.61",
         "0.004",
         "0.021",
         "0.002",
         "13",
         "23.0"
        ]
       ],
       "shape": {
        "columns": 7,
        "rows": 5
       }
      },
      "text/html": [
       "<div>\n",
       "<style scoped>\n",
       "    .dataframe tbody tr th:only-of-type {\n",
       "        vertical-align: middle;\n",
       "    }\n",
       "\n",
       "    .dataframe tbody tr th {\n",
       "        vertical-align: top;\n",
       "    }\n",
       "\n",
       "    .dataframe thead th {\n",
       "        text-align: right;\n",
       "    }\n",
       "</style>\n",
       "<table border=\"1\" class=\"dataframe\">\n",
       "  <thead>\n",
       "    <tr style=\"text-align: right;\">\n",
       "      <th></th>\n",
       "      <th>DATE</th>\n",
       "      <th>CO</th>\n",
       "      <th>NO2</th>\n",
       "      <th>O3</th>\n",
       "      <th>SO2</th>\n",
       "      <th>PM2.5</th>\n",
       "      <th>PM10</th>\n",
       "    </tr>\n",
       "  </thead>\n",
       "  <tbody>\n",
       "    <tr>\n",
       "      <th>0</th>\n",
       "      <td>2019-01-01</td>\n",
       "      <td>0.88</td>\n",
       "      <td>0.011</td>\n",
       "      <td>0.021</td>\n",
       "      <td>0.003</td>\n",
       "      <td>38</td>\n",
       "      <td>59.0</td>\n",
       "    </tr>\n",
       "    <tr>\n",
       "      <th>1</th>\n",
       "      <td>2019-01-01</td>\n",
       "      <td>0.82</td>\n",
       "      <td>0.012</td>\n",
       "      <td>0.018</td>\n",
       "      <td>0.002</td>\n",
       "      <td>46</td>\n",
       "      <td>62.0</td>\n",
       "    </tr>\n",
       "    <tr>\n",
       "      <th>2</th>\n",
       "      <td>2019-01-01</td>\n",
       "      <td>0.75</td>\n",
       "      <td>0.009</td>\n",
       "      <td>0.018</td>\n",
       "      <td>0.002</td>\n",
       "      <td>31</td>\n",
       "      <td>45.0</td>\n",
       "    </tr>\n",
       "    <tr>\n",
       "      <th>3</th>\n",
       "      <td>2019-01-01</td>\n",
       "      <td>0.67</td>\n",
       "      <td>0.006</td>\n",
       "      <td>0.020</td>\n",
       "      <td>0.002</td>\n",
       "      <td>18</td>\n",
       "      <td>29.0</td>\n",
       "    </tr>\n",
       "    <tr>\n",
       "      <th>4</th>\n",
       "      <td>2019-01-01</td>\n",
       "      <td>0.61</td>\n",
       "      <td>0.004</td>\n",
       "      <td>0.021</td>\n",
       "      <td>0.002</td>\n",
       "      <td>13</td>\n",
       "      <td>23.0</td>\n",
       "    </tr>\n",
       "  </tbody>\n",
       "</table>\n",
       "</div>"
      ],
      "text/plain": [
       "        DATE    CO    NO2     O3    SO2  PM2.5  PM10\n",
       "0 2019-01-01  0.88  0.011  0.021  0.003     38  59.0\n",
       "1 2019-01-01  0.82  0.012  0.018  0.002     46  62.0\n",
       "2 2019-01-01  0.75  0.009  0.018  0.002     31  45.0\n",
       "3 2019-01-01  0.67  0.006  0.020  0.002     18  29.0\n",
       "4 2019-01-01  0.61  0.004  0.021  0.002     13  23.0"
      ]
     },
     "metadata": {},
     "output_type": "display_data"
    }
   ],
   "source": [
    "import pandas as pd\n",
    "import numpy as np\n",
    "import matplotlib.pyplot as plt\n",
    "import seaborn as sns\n",
    "\n",
    "# Modelado \n",
    "from sklearn.model_selection import train_test_split\n",
    "from sklearn.linear_model import LinearRegression\n",
    "from sklearn.metrics import mean_squared_error, r2_score\n",
    "import statsmodels.api as sm\n",
    "from statsmodels.tsa.seasonal import seasonal_decompose\n",
    "\n",
    "\n",
    "rutaArchivo = '../Data/contaminantes.xlsx' \n",
    "contaminantes = pd.read_excel(rutaArchivo)\n",
    "\n",
    "display(contaminantes.head())"
   ]
  },
  {
   "cell_type": "markdown",
   "id": "bfd20192",
   "metadata": {},
   "source": [
    "### <a id=\"1-2\"></a>1.2. Limpieza y Verificación de Datos\n",
    "\n",
    "Una vez cargados los datos, el siguiente paso crítico es la limpieza. Verificaremos la existencia de valores nulos (NaN) y filas duplicadas que puedan afectar la calidad de nuestro análisis y modelos.\n",
    "\n",
    "**Estrategia de Limpieza:**\n",
    "* **Valores Nulos:** Para los valores numéricos faltantes, utilizaremos el método de **interpolación lineal**. Esta técnica es ideal para datos de series temporales (como mediciones de sensores), ya que estima los valores faltantes basándose en los puntos anterior y posterior, asumiendo una progresión lógica.\n",
    "* **Duplicados:** Se eliminará cualquier fila que sea una copia exacta de otra para evitar redundancia en los datos."
   ]
  },
  {
   "cell_type": "code",
   "execution_count": 27,
   "id": "8abf4e1f",
   "metadata": {},
   "outputs": [
    {
     "name": "stdout",
     "output_type": "stream",
     "text": [
      "\n",
      "--- Resumen final de los tipos de datos ---\n",
      "<class 'pandas.core.frame.DataFrame'>\n",
      "RangeIndex: 742 entries, 0 to 741\n",
      "Data columns (total 7 columns):\n",
      " #   Column  Non-Null Count  Dtype         \n",
      "---  ------  --------------  -----         \n",
      " 0   DATE    742 non-null    datetime64[ns]\n",
      " 1   CO      742 non-null    float64       \n",
      " 2   NO2     742 non-null    float64       \n",
      " 3   O3      742 non-null    float64       \n",
      " 4   SO2     742 non-null    float64       \n",
      " 5   PM2.5   742 non-null    int64         \n",
      " 6   PM10    742 non-null    float64       \n",
      "dtypes: datetime64[ns](1), float64(5), int64(1)\n",
      "memory usage: 40.7 KB\n"
     ]
    }
   ],
   "source": [
    "# Valores nulos/duplicados que puedan interferir en el analisiss \n",
    "totalNulos = contaminantes.isnull().sum().sum()\n",
    "totalDuplicados = contaminantes.duplicated().sum()\n",
    "\n",
    "print(\"\\n--- Resumen final de los tipos de datos ---\")\n",
    "contaminantes.info()"
   ]
  },
  {
   "cell_type": "markdown",
   "id": "dffbf5fd",
   "metadata": {},
   "source": [
    "### <a id=\"1-3\"></a>1.3. Análisis Exploratorio y Matriz de Correlación\n",
    "\n",
    "Con los datos limpios y verificados, realizamos un último análisis exploratorio. Primero, generaremos estadísticas descriptivas para entender la escala y distribución de cada contaminante.\n",
    "\n",
    "Segundo, y más importante, crearemos una **matriz de correlación**. Esta nos mostrará numéricamente qué tan fuerte es la relación lineal entre cada par de contaminantes. La visualizaremos como un mapa de calor (heatmap) para identificar rápidamente las relaciones más significativas, lo cual será crucial para seleccionar las variables de entrada en nuestros modelos de regresión de la Fase 2."
   ]
  },
  {
   "cell_type": "code",
   "execution_count": 28,
   "id": "f55af4e5",
   "metadata": {},
   "outputs": [
    {
     "name": "stdout",
     "output_type": "stream",
     "text": [
      "--- Resumen Estadístico de los Contaminantes ---\n"
     ]
    },
    {
     "data": {
      "application/vnd.microsoft.datawrangler.viewer.v0+json": {
       "columns": [
        {
         "name": "index",
         "rawType": "object",
         "type": "string"
        },
        {
         "name": "DATE",
         "rawType": "object",
         "type": "unknown"
        },
        {
         "name": "CO",
         "rawType": "float64",
         "type": "float"
        },
        {
         "name": "NO2",
         "rawType": "float64",
         "type": "float"
        },
        {
         "name": "O3",
         "rawType": "float64",
         "type": "float"
        },
        {
         "name": "SO2",
         "rawType": "float64",
         "type": "float"
        },
        {
         "name": "PM2.5",
         "rawType": "float64",
         "type": "float"
        },
        {
         "name": "PM10",
         "rawType": "float64",
         "type": "float"
        }
       ],
       "ref": "aa159528-d9ea-4090-9524-abe23b92bdf7",
       "rows": [
        [
         "count",
         "742",
         "742.0",
         "742.0",
         "742.0",
         "742.0",
         "742.0",
         "742.0"
        ],
        [
         "mean",
         "2019-01-16 00:23:17.304582144",
         "0.8457816711590296",
         "0.013758760107816714",
         "0.028831536388140164",
         "0.0017857142857142859",
         "19.5188679245283",
         "41.36799191374663"
        ],
        [
         "min",
         "2019-01-01 00:00:00",
         "0.51",
         "0.002",
         "0.003",
         "0.001",
         "3.0",
         "0.025"
        ],
        [
         "25%",
         "2019-01-08 00:00:00",
         "0.74",
         "0.008",
         "0.019",
         "0.001",
         "14.0",
         "31.0"
        ],
        [
         "50%",
         "2019-01-16 00:00:00",
         "0.81",
         "0.011",
         "0.026",
         "0.002",
         "19.0",
         "41.0"
        ],
        [
         "75%",
         "2019-01-24 00:00:00",
         "0.92",
         "0.019",
         "0.037",
         "0.002",
         "24.0",
         "50.0"
        ],
        [
         "max",
         "2019-01-31 00:00:00",
         "1.58",
         "0.045",
         "0.079",
         "0.008",
         "47.0",
         "148.0"
        ],
        [
         "std",
         null,
         "0.16651665298996204",
         "0.00829091645275626",
         "0.014976812579625642",
         "0.0007766224768595965",
         "8.118158770348682",
         "14.839602204927015"
        ]
       ],
       "shape": {
        "columns": 7,
        "rows": 8
       }
      },
      "text/html": [
       "<div>\n",
       "<style scoped>\n",
       "    .dataframe tbody tr th:only-of-type {\n",
       "        vertical-align: middle;\n",
       "    }\n",
       "\n",
       "    .dataframe tbody tr th {\n",
       "        vertical-align: top;\n",
       "    }\n",
       "\n",
       "    .dataframe thead th {\n",
       "        text-align: right;\n",
       "    }\n",
       "</style>\n",
       "<table border=\"1\" class=\"dataframe\">\n",
       "  <thead>\n",
       "    <tr style=\"text-align: right;\">\n",
       "      <th></th>\n",
       "      <th>DATE</th>\n",
       "      <th>CO</th>\n",
       "      <th>NO2</th>\n",
       "      <th>O3</th>\n",
       "      <th>SO2</th>\n",
       "      <th>PM2.5</th>\n",
       "      <th>PM10</th>\n",
       "    </tr>\n",
       "  </thead>\n",
       "  <tbody>\n",
       "    <tr>\n",
       "      <th>count</th>\n",
       "      <td>742</td>\n",
       "      <td>742.000000</td>\n",
       "      <td>742.000000</td>\n",
       "      <td>742.000000</td>\n",
       "      <td>742.000000</td>\n",
       "      <td>742.000000</td>\n",
       "      <td>742.000000</td>\n",
       "    </tr>\n",
       "    <tr>\n",
       "      <th>mean</th>\n",
       "      <td>2019-01-16 00:23:17.304582144</td>\n",
       "      <td>0.845782</td>\n",
       "      <td>0.013759</td>\n",
       "      <td>0.028832</td>\n",
       "      <td>0.001786</td>\n",
       "      <td>19.518868</td>\n",
       "      <td>41.367992</td>\n",
       "    </tr>\n",
       "    <tr>\n",
       "      <th>min</th>\n",
       "      <td>2019-01-01 00:00:00</td>\n",
       "      <td>0.510000</td>\n",
       "      <td>0.002000</td>\n",
       "      <td>0.003000</td>\n",
       "      <td>0.001000</td>\n",
       "      <td>3.000000</td>\n",
       "      <td>0.025000</td>\n",
       "    </tr>\n",
       "    <tr>\n",
       "      <th>25%</th>\n",
       "      <td>2019-01-08 00:00:00</td>\n",
       "      <td>0.740000</td>\n",
       "      <td>0.008000</td>\n",
       "      <td>0.019000</td>\n",
       "      <td>0.001000</td>\n",
       "      <td>14.000000</td>\n",
       "      <td>31.000000</td>\n",
       "    </tr>\n",
       "    <tr>\n",
       "      <th>50%</th>\n",
       "      <td>2019-01-16 00:00:00</td>\n",
       "      <td>0.810000</td>\n",
       "      <td>0.011000</td>\n",
       "      <td>0.026000</td>\n",
       "      <td>0.002000</td>\n",
       "      <td>19.000000</td>\n",
       "      <td>41.000000</td>\n",
       "    </tr>\n",
       "    <tr>\n",
       "      <th>75%</th>\n",
       "      <td>2019-01-24 00:00:00</td>\n",
       "      <td>0.920000</td>\n",
       "      <td>0.019000</td>\n",
       "      <td>0.037000</td>\n",
       "      <td>0.002000</td>\n",
       "      <td>24.000000</td>\n",
       "      <td>50.000000</td>\n",
       "    </tr>\n",
       "    <tr>\n",
       "      <th>max</th>\n",
       "      <td>2019-01-31 00:00:00</td>\n",
       "      <td>1.580000</td>\n",
       "      <td>0.045000</td>\n",
       "      <td>0.079000</td>\n",
       "      <td>0.008000</td>\n",
       "      <td>47.000000</td>\n",
       "      <td>148.000000</td>\n",
       "    </tr>\n",
       "    <tr>\n",
       "      <th>std</th>\n",
       "      <td>NaN</td>\n",
       "      <td>0.166517</td>\n",
       "      <td>0.008291</td>\n",
       "      <td>0.014977</td>\n",
       "      <td>0.000777</td>\n",
       "      <td>8.118159</td>\n",
       "      <td>14.839602</td>\n",
       "    </tr>\n",
       "  </tbody>\n",
       "</table>\n",
       "</div>"
      ],
      "text/plain": [
       "                                DATE          CO         NO2          O3  \\\n",
       "count                            742  742.000000  742.000000  742.000000   \n",
       "mean   2019-01-16 00:23:17.304582144    0.845782    0.013759    0.028832   \n",
       "min              2019-01-01 00:00:00    0.510000    0.002000    0.003000   \n",
       "25%              2019-01-08 00:00:00    0.740000    0.008000    0.019000   \n",
       "50%              2019-01-16 00:00:00    0.810000    0.011000    0.026000   \n",
       "75%              2019-01-24 00:00:00    0.920000    0.019000    0.037000   \n",
       "max              2019-01-31 00:00:00    1.580000    0.045000    0.079000   \n",
       "std                              NaN    0.166517    0.008291    0.014977   \n",
       "\n",
       "              SO2       PM2.5        PM10  \n",
       "count  742.000000  742.000000  742.000000  \n",
       "mean     0.001786   19.518868   41.367992  \n",
       "min      0.001000    3.000000    0.025000  \n",
       "25%      0.001000   14.000000   31.000000  \n",
       "50%      0.002000   19.000000   41.000000  \n",
       "75%      0.002000   24.000000   50.000000  \n",
       "max      0.008000   47.000000  148.000000  \n",
       "std      0.000777    8.118159   14.839602  "
      ]
     },
     "metadata": {},
     "output_type": "display_data"
    }
   ],
   "source": [
    "# .describe() nos da un resumen numérico completo de cada columna.\n",
    "print(\"--- Resumen Estadístico de los Contaminantes ---\")\n",
    "display(contaminantes.describe())"
   ]
  },
  {
   "cell_type": "markdown",
   "id": "eb08d02d",
   "metadata": {},
   "source": [
    "Si observamos la tabla generada, verremos el contexto cuantitativo a la distribución de cada contaminante. Nos permite entender tres aspectos clave de los datos:\n",
    "\n",
    "* **Tendencia Central:** ¿Cuál es el valor promedio o típico de cada contaminante? (ver la fila `mean`).\n",
    "* **Dispersión:** ¿Qué tan variables o dispersos son los datos alrededor de ese promedio? (ver la fila `std` o desviación estándar).\n",
    "* **Rango:** ¿Cuáles son los valores mínimos y máximos registrados en este periodo? (ver las filas `min` y `max`).\n",
    "\n",
    "#### Observaciones Clave de los Datos:\n",
    "\n",
    "Observamos lo siguiente:\n",
    "\n",
    "* **Consistencia de los Datos:** Todas las columnas tienen una cuenta de **742 entradas**, lo que confirma que tenemos un conjunto de datos completo para el período de tiempo analizado (Enero de 2019).\n",
    "  \n",
    "* **Diferentes Escalas:** Los contaminantes operan en escalas muy distintas. Por ejemplo, el `CO` se mueve en valores cercanos a 0.8, mientras que el `PM2.5` tiene un promedio de 19.5. Esto es importante tenerlo en cuenta para el futuro modelado.\n",
    "  \n",
    "* **Variabilidad:** El contaminante **PM2.5** muestra una desviación estándar (`std`) de **8.11**, que es considerable en relación con su media (`mean`) de **19.5**. Esto sugiere que sus niveles son bastante variables. En contraste, el `SO2` es mucho más estable, con una desviación estándar muy baja.\n",
    "  \n",
    "* **Rango de Medición:** Durante este mes, los niveles de `PM2.5` oscilaron entre un mínimo de 3.0 y un máximo de 47.0.\n",
    "\n",
    "Ahora que entendemos las características individuales de cada contaminante, el siguiente paso natural es analizar cómo se relacionan entre sí. Para ello, generaremos la matriz de correlación."
   ]
  },
  {
   "cell_type": "code",
   "execution_count": 29,
   "id": "e8364ef0",
   "metadata": {},
   "outputs": [
    {
     "data": {
      "image/png": "[encoded data removed]",
      "text/plain": [
       "<Figure size 1000x800 with 2 Axes>"
      ]
     },
     "metadata": {},
     "output_type": "display_data"
    }
   ],
   "source": [
    "# Matriz de Correlación y Heatmap\n",
    "\n",
    "# Solo columnas numéricas para el cálculo \n",
    "columnasNumericas = ['CO', 'NO2', 'O3', 'SO2', 'PM2.5', 'PM10']\n",
    "contaminantesNumericos = contaminantes[columnasNumericas]\n",
    "\n",
    "# Matriz de correlacion\n",
    "matrizCorrelacion = contaminantesNumericos.corr()\n",
    "\n",
    "# Heatmap para la representacion de la matriz de correlacion    \n",
    "plt.figure(figsize=(10, 8))\n",
    "sns.heatmap(matrizCorrelacion, annot=True, cmap='coolwarm', fmt=\".2f\")\n",
    "plt.title('Matriz de Correlación entre Contaminantes', fontsize=16)\n",
    "plt.savefig('../Images/matrizCorrelacion.png', dpi=300, bbox_inches='tight')\n",
    "plt.show()\n"
   ]
  },
  {
   "cell_type": "markdown",
   "id": "b72b2e53",
   "metadata": {},
   "source": [
    "El mapa de calor anterior es una de las herramientas más importantes de nuestro análisis exploratorio. Su función principal en este proyecto es la de **guiar la selección de características (features)** para los modelos de regresión que construiremos en la Fase 2.\n",
    "\n",
    "**¿Por qué?**\n",
    "* **Para predecir PM2.5 y PM10:** Podemos observar que `PM2.5` y `PM10` tienen una **correlación positiva muy fuerte (0.81)**. También vemos correlaciones positivas moderadas con `SO2`. Esto nos sugiere que estas variables serán buenos predictores.\n",
    "* **Para predecir Ozono (O3):** Notamos una **correlación negativa significativa (-0.46) entre `O3` y `NO2`**.El heatmap la confirma en nuestros datos, señalando al `NO2` como un predictor clave.\n",
    "\n",
    "E heatmap valida nuestras hipótesis y nos da una base cuantitativa para elegir las variables de entrada más prometedoras para nuestros modelos."
   ]
  },
  {
   "cell_type": "markdown",
   "id": "ec3d46a0",
   "metadata": {},
   "source": [
    "## <a id=\"fase-2\"></a>2. Fase 2: Modelado Predictivo (Regresión)\n",
    "\n",
    "Ahora que vimos las relaciones entre nuestros datos, comenzaremos a construir el modelo. Primer bjetivo: predecir la concentración de partículas `PM2.5` y `PM10`.\n",
    "\n",
    "### <a id=\"2-1\"></a>2.1. Modelo 1: Predicción de Partículas PM2.5\n",
    "\n",
    "Para ilustrar el concepto, comenzaremos con el caso más simple: una **regresión lineal simple** para predecir la concentración de `PM2.5` usando únicamente la variable con la que tiene mayor correlación: `PM10`. Luego, visualizaremos el resultado."
   ]
  },
  {
   "cell_type": "code",
   "execution_count": 33,
   "id": "9eb61d06",
   "metadata": {},
   "outputs": [
    {
     "name": "stdout",
     "output_type": "stream",
     "text": [
      "✅ Modelo de Regresión Lineal entrenado.\n"
     ]
    },
    {
     "data": {
      "image/png": "[encoded data removed]",
      "text/plain": [
       "<Figure size 1000x600 with 1 Axes>"
      ]
     },
     "metadata": {},
     "output_type": "display_data"
    }
   ],
   "source": [
    "# Regresión Lineal Simple: PM10 -> PM2.5\n",
    "\n",
    "# Selección de Características (X) y Objetivo (y)\n",
    "# Doble corchete en X para mantenerlo como un DataFrame\n",
    "X = contaminantes[['PM10']] \n",
    "y = contaminantes['PM2.5']\n",
    "\n",
    "# Datos en Entrenamiento y Prueba\n",
    "X_train, X_test, y_train, y_test = train_test_split(X, y, test_size=0.3, random_state=42)\n",
    "\n",
    "# Modelado\n",
    "modeloLineal = LinearRegression()\n",
    "modeloLineal.fit(X_train, y_train)\n",
    "print(\"✅ Modelo de Regresión Lineal entrenado.\")\n",
    "\n",
    "# Predicciones\n",
    "y_pred = modeloLineal.predict(X_test)\n",
    "\n",
    "# Evaluación del Modelo\n",
    "plt.figure(figsize=(10, 6))\n",
    "\n",
    "# Visualización de los resultados\n",
    "plt.scatter(X_test, y_test, color='blue', alpha=0.5, label='Datos Reales')\n",
    "plt.plot(X_test, y_pred, color='red', linewidth=2, label='Línea de Regresión')\n",
    "\n",
    "plt.title('Regresión Lineal: PM2.5 vs. PM10', fontsize=16)\n",
    "plt.xlabel('PM10', fontsize=12)\n",
    "plt.ylabel('PM2.5', fontsize=12)\n",
    "plt.legend()\n",
    "plt.grid(True)\n",
    "plt.show()"
   ]
  },
  {
   "cell_type": "markdown",
   "id": "d953e039",
   "metadata": {},
   "source": [
    "#### Justificación del Método: La API de Scikit-Learn\n",
    "La imagen a continuación muestra la \"firma\" del método `.fit()`.\n",
    "\n",
    "\n",
    "![Firma del método .fit() de Scikit-learn](../Images/parametrosRLineal.png)\n",
    "\n",
    "Como indica la documentación, el método espera dos argumentos principales:\n",
    "* **`X`**: Un arreglo o matriz con las características de entrada (en nuestro caso, `X_train`).\n",
    "* **`y`**: Un arreglo con los valores objetivo correspondientes (en nuestro caso, `y_train`).\n",
    "\n",
    "**Referencia:** [Documentación Oficial de LinearRegression en scikit-learn](https://scikit-learn.org/stable/modules/generated/sklearn.linear_model.LinearRegression.html)"
   ]
  },
  {
   "cell_type": "markdown",
   "id": "d89cffbd",
   "metadata": {},
   "source": []
  }
 ],
 "metadata": {
  "kernelspec": {
   "display_name": "base",
   "language": "python",
   "name": "python3"
  },
  "language_info": {
   "codemirror_mode": {
    "name": "ipython",
    "version": 3
   },
   "file_extension": ".py",
   "mimetype": "text/x-python",
   "name": "python",
   "nbconvert_exporter": "python",
   "pygments_lexer": "ipython3",
   "version": "3.12.7"
  }
 },
 "nbformat": 4,
 "nbformat_minor": 5
}
